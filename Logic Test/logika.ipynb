{
  "nbformat": 4,
  "nbformat_minor": 0,
  "metadata": {
    "colab": {
      "provenance": [],
      "collapsed_sections": []
    },
    "kernelspec": {
      "name": "python3",
      "display_name": "Python 3"
    },
    "language_info": {
      "name": "python"
    }
  },
  "cells": [
    {
      "cell_type": "markdown",
      "source": [
        "Buat fungsi dengan menampilkan bilangan cacah kelipatan 3 atau 7 sebanyak N, serta menampilkan huruf Z saat bilangan tersebut kelipatan 3 dan 7."
      ],
      "metadata": {
        "id": "8a6N8H6tQ9XH"
      }
    },
    {
      "cell_type": "code",
      "source": [
        "N = int(input(\"Input the N number: \"))\n",
        "\n",
        "iter = 1\n",
        "while N != 0:\n",
        "  if iter%3 == 0 and iter%7 == 0:\n",
        "    if N-1 == 0:\n",
        "      print(\"Z\", end=\"\")\n",
        "    else:\n",
        "      print(\"Z, \", end=\"\")\n",
        "    iter += 1\n",
        "    N -= 1\n",
        "  \n",
        "  elif iter%3 == 0:\n",
        "    if N-1 == 0:\n",
        "      print(f\"{iter}\", end=\"\")\n",
        "    else:\n",
        "      print(f\"{iter}, \", end=\"\")\n",
        "    iter += 1\n",
        "    N -= 1\n",
        "\n",
        "  elif iter%7 == 0:\n",
        "    if N-1 == 0:\n",
        "      print(f\"{iter}\", end=\"\")\n",
        "    else:\n",
        "      print(f\"{iter}, \", end=\"\")\n",
        "    iter += 1\n",
        "    N -= 1\n",
        "\n",
        "  else:\n",
        "    iter += 1"
      ],
      "metadata": {
        "colab": {
          "base_uri": "https://localhost:8080/"
        },
        "id": "bTOOnUR4Q9Co",
        "outputId": "46ffadba-14d3-4d92-9538-7189d68e0063"
      },
      "execution_count": null,
      "outputs": [
        {
          "output_type": "stream",
          "name": "stdout",
          "text": [
            "Input the N number:13\n",
            "3, 6, 7, 9, 12, 14, 15, 18, Z, 24, 27, 28, 30"
          ]
        }
      ]
    },
    {
      "cell_type": "markdown",
      "source": [
        "Buat fungsi pencarian ‘sang gajah’, ‘serigala’, ‘harimau’.\n",
        "Dengan contoh masukan dan keluaran sebagai berikut :\n"
      ],
      "metadata": {
        "id": "CGDKu_D3TOJt"
      }
    },
    {
      "cell_type": "code",
      "source": [
        "import re\n",
        "\n",
        "# process\n",
        "lN = int(input(\"Number of limitations: \"))\n",
        "lString = \"\"\n",
        "for i in range(1, lN+1):\n",
        "  if i == lN:\n",
        "    lString += str(input(f\"Input the-{i} limitation: \"))\n",
        "  else:\n",
        "    lString += str(input(f\"Input the-{i} limitation: \")) + \"|\"\n",
        "theString = str(input(\"Input the string: \")).lower()\n",
        "\n",
        "# print out\n",
        "resultList = re.findall(lString, theString)\n",
        "resultLength = len(resultList)\n",
        "for i in range(resultLength):\n",
        "  if i == resultLength-1:\n",
        "    print(f\"{resultList[i]}\")\n",
        "  else:\n",
        "    print(f\"{resultList[i]} - \", end=\"\")"
      ],
      "metadata": {
        "id": "OZNbNdvYbjq0",
        "colab": {
          "base_uri": "https://localhost:8080/"
        },
        "outputId": "a4d5a21c-3430-42a8-c3cf-a7af4e72ec6a"
      },
      "execution_count": 1,
      "outputs": [
        {
          "output_type": "stream",
          "name": "stdout",
          "text": [
            "Number of limitations: 3\n",
            "Input the-1 limitation: sang gajah\n",
            "Input the-2 limitation: serigala\n",
            "Input the-3 limitation: harimau\n",
            "Input the string: Berikut adalah kisah sang gajah. Sang gajah memiliki teman serigala bernama DoeSang. Gajah sering dibela oleh serigala ketika harimau mendekati gajah.\n",
            "sang gajah - sang gajah - serigala - serigala - harimau\n"
          ]
        }
      ]
    },
    {
      "cell_type": "markdown",
      "source": [
        "Buatlah fungsi pengecekan kata sandi, dengan ketentuan sebagai \n",
        "<ol type=\"a\">\n",
        "<li>Kata sandi minimal 8 karakter\n",
        "<li>Kata sandi maksimal 32 karakter\n",
        "<li>Karakter awal tidak boleh angka\n",
        "<li>Harus memiliki angka\n",
        "<li>Harus memiliki huruf kapital dan huruf kecil\n"
      ],
      "metadata": {
        "id": "g8bJJoyeg6ll"
      }
    },
    {
      "cell_type": "code",
      "source": [
        "def passValidation(password):\n",
        "  length = len(password)\n",
        "  \n",
        "  if length < 8:\n",
        "    return \"Harus minimal sepanjang 8 karakter\"\n",
        "  elif length > 32:\n",
        "    return \"Harus maksimal sepanjang 32 karakter\"\n",
        "  elif re.search(\"^[0-9]\", password):\n",
        "    return \"Karakter awal tidak boleh suatu angka\"\n",
        "  elif re.search(\"[A-Z]+\", password) == None or re.search(\"[a-z]+\", password) == None:\n",
        "    return \"Harus memiliki huruf kapital dan huruf kecil di dalamnya\"\n",
        "  else:\n",
        "    return \"Kata sandi valid\"\n",
        "\n",
        "thePass = str(input(\"Input the password: \"))\n",
        "passValidation(thePass)"
      ],
      "metadata": {
        "colab": {
          "base_uri": "https://localhost:8080/",
          "height": 53
        },
        "id": "ZC71rMilh9Ue",
        "outputId": "4a966edf-5ff2-4313-8a07-70ad8fe8622c"
      },
      "execution_count": null,
      "outputs": [
        {
          "name": "stdout",
          "output_type": "stream",
          "text": [
            "Input the password: Sdasf2sdaw\n"
          ]
        },
        {
          "output_type": "execute_result",
          "data": {
            "text/plain": [
              "'Kata sandi valid'"
            ],
            "application/vnd.google.colaboratory.intrinsic+json": {
              "type": "string"
            }
          },
          "metadata": {},
          "execution_count": 127
        }
      ]
    },
    {
      "cell_type": "markdown",
      "source": [
        "Buat fungsi pengecekan bilangan cacah terkecil yang tidak ada dari data yang diinputkan. Dengan contoh input dan output sebagai berikut :\n",
        "\n",
        "![image.png](data:image/png;base64,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)"
      ],
      "metadata": {
        "id": "QIHe4mpXvyUy"
      }
    },
    {
      "cell_type": "code",
      "source": [
        "n = int(input(\"Length of the list: \"))\n",
        "theNumbers = [int(input(f\"Input the-{i} number: \")) for i in range(1, n+1)]\n",
        "theNumbers.sort()\n",
        "\n",
        "for i in range(1, n):\n",
        "  if theNumbers[i]-1 != theNumbers[i-1]:\n",
        "    print(theNumbers[i-1]+1)\n",
        "    break"
      ],
      "metadata": {
        "colab": {
          "base_uri": "https://localhost:8080/"
        },
        "id": "HCtZ3qD3wSEU",
        "outputId": "b3e42a6e-f486-4eaf-dccd-d7030003c656"
      },
      "execution_count": null,
      "outputs": [
        {
          "output_type": "stream",
          "name": "stdout",
          "text": [
            "Length of the list: 4\n",
            "Input the-1 number: 8\n",
            "Input the-2 number: 6\n",
            "Input the-3 number: 7\n",
            "Input the-4 number: 12\n",
            "9\n"
          ]
        }
      ]
    },
    {
      "cell_type": "markdown",
      "source": [
        "Buat pola berikut sesuai inputan N, dengan N adalah bilangan ganjil\n",
        "<br>\n",
        "*catatan : nilai lebih jika pakai rekursif\n",
        "<br>\n",
        "![image.png](data:image/png;base64,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)"
      ],
      "metadata": {
        "id": "Qa0L5KJ_1NR0"
      }
    },
    {
      "cell_type": "code",
      "source": [
        "def rekursian(S, N):\n",
        "  for i in range(5):\n",
        "    if i == 0 or i == 2:\n",
        "      print(\"X\", end=\"\")\n",
        "    elif i == 1:\n",
        "      print(\"O\"*S, end=\"\")\n",
        "    elif i == 3:\n",
        "      print(\"O\"*(N-3-S), end=\"\")\n",
        "    elif i == 4:\n",
        "      print(\"X\")\n",
        "  \n",
        "  if S > 0:\n",
        "    rekursian(S-1, N)\n",
        "  else:\n",
        "    return \n",
        "\n",
        "\n",
        "N = int(input(\"Input N: \"))\n",
        "if N%2 == 0:\n",
        "  print(\"Harus bilangan ganjil\")\n",
        "elif N==1:\n",
        "  print(\"X\")\n",
        "else:\n",
        "  for i in range(3):\n",
        "    if i == 0 or i == 2:\n",
        "      print(\"X\"*N)\n",
        "    else:\n",
        "      rekursian(N-3, N)"
      ],
      "metadata": {
        "colab": {
          "base_uri": "https://localhost:8080/"
        },
        "id": "bzvPtmWX1WWs",
        "outputId": "86482a61-5901-4cc0-ba8c-b13ebf9f5579"
      },
      "execution_count": null,
      "outputs": [
        {
          "output_type": "stream",
          "name": "stdout",
          "text": [
            "Input N: 5\n",
            "XXXXX\n",
            "XOOXX\n",
            "XOXOX\n",
            "XXOOX\n",
            "XXXXX\n"
          ]
        }
      ]
    }
  ]
}